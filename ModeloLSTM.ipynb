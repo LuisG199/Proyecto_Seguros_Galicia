{
 "cells": [
  {
   "cell_type": "code",
   "execution_count": null,
   "metadata": {},
   "outputs": [],
   "source": [
    "#pip install tensorflow"
   ]
  },
  {
   "cell_type": "markdown",
   "metadata": {},
   "source": [
    "# Librerias a implementar"
   ]
  },
  {
   "cell_type": "code",
   "execution_count": 1,
   "metadata": {},
   "outputs": [],
   "source": [
    "import pandas as pd\n",
    "import numpy as np\n",
    "import os\n",
    "import seaborn as sns\n",
    "import matplotlib.pyplot as plt\n",
    "import plotly.express as px\n",
    "import plotly.graph_objects as go\n",
    "import datetime\n",
    "import io\n",
    "\n",
    "from azure.storage.blob import BlobServiceClient, BlobClient, ContainerClient\n",
    "\n",
    "import tensorflow as tf\n",
    "from tensorflow.keras.layers import Input, LSTM, Dense, Concatenate, Embedding\n",
    "from tensorflow.keras.models import Model\n",
    "from tensorflow.keras.models import Sequential\n",
    "from tensorflow.keras.models import Sequential\n",
    "from tensorflow.keras.layers import LSTM, Dense\n",
    "\n",
    "from sklearn.model_selection import train_test_split\n",
    "from sklearn.preprocessing import MinMaxScaler\n",
    "\n",
    "import my_functions"
   ]
  },
  {
   "cell_type": "markdown",
   "metadata": {},
   "source": [
    "# Datos usados"
   ]
  },
  {
   "cell_type": "code",
   "execution_count": 6,
   "metadata": {},
   "outputs": [],
   "source": [
    "data_siniestros = pd.read_csv('Data/siniestros.csv')\n",
    "data_contactos = pd.read_csv('Data/contactos.csv')\n",
    "data_cobertura_2022 = pd.read_csv('Data/Data_cobertura/data_test', delimiter=',')\n",
    "data_certificados = pd.read_csv('Data/certificados.csv')\n",
    "data_tenencias = pd.read_csv('Data/tenencia.csv')\n",
    "data_review = pd.read_csv('Data/miarchivo.csv', delimiter=',')"
   ]
  },
  {
   "cell_type": "markdown",
   "metadata": {},
   "source": [
    "# Funciones de transformacion"
   ]
  },
  {
   "cell_type": "code",
   "execution_count": 11,
   "metadata": {},
   "outputs": [
    {
     "name": "stderr",
     "output_type": "stream",
     "text": [
      "c:\\Users\\102140\\OneDrive - Grundfos\\Personal\\DATA SCIENCE\\Proyecto Galicia\\my_functions.py:281: SettingWithCopyWarning: \n",
      "A value is trying to be set on a copy of a slice from a DataFrame.\n",
      "Try using .loc[row_indexer,col_indexer] = value instead\n",
      "\n",
      "See the caveats in the documentation: https://pandas.pydata.org/pandas-docs/stable/user_guide/indexing.html#returning-a-view-versus-a-copy\n",
      "  data_wapp['DESC_GEST']= valores_de_reemplazo\n",
      "c:\\Users\\102140\\OneDrive - Grundfos\\Personal\\DATA SCIENCE\\Proyecto Galicia\\my_functions.py:130: FutureWarning: The default value of regex will change from True to False in a future version.\n",
      "  data['DESCRIPCION_COBERTURA'] = data['DESCRIPCION_COBERTURA'].str.replace(r'\\xa0', ' ')\n"
     ]
    }
   ],
   "source": [
    "data_contactos_new = my_functions.Limpieza_contactos(data_contactos)\n",
    "data_siniestros_new = my_functions.Limpieza_siniestros(data_siniestros)\n",
    "data_cobertura_2022_new = my_functions.Limpieza_datos_coberturas(data_cobertura_2022)\n",
    "data_certificados_new = my_functions.Limpieza_certificados(data_certificados)\n",
    "data_tenencias_new = my_functions.Limpieza_tenencias(data_tenencias)"
   ]
  },
  {
   "cell_type": "code",
   "execution_count": 13,
   "metadata": {},
   "outputs": [],
   "source": [
    "columna_a = data_tenencias_new.pop('KEY_CLIENT')  # Elimina 'ColumnaA' de su posición original\n",
    "data_tenencias_new.insert(data_tenencias_new.columns.get_loc('VIDA_OBLIGATORIO_CORE_2') + 1, 'KEY_CLIENT', columna_a)\n",
    "data_y = data_tenencias_new.iloc[:,:43]"
   ]
  },
  {
   "cell_type": "markdown",
   "metadata": {},
   "source": [
    "# Valores Coincidentes"
   ]
  },
  {
   "cell_type": "code",
   "execution_count": 16,
   "metadata": {},
   "outputs": [
    {
     "name": "stdout",
     "output_type": "stream",
     "text": [
      "Cantidad de valores coincidentes Contactos: 3006\n",
      "Cantidad de valores coincidentes Siniestros: 1595\n",
      "Cantidad de valores coincidentes Coberturas: 967\n",
      "Cantidad de valores coincidentes certificados: 77899\n",
      "Cantidad de valores coincidentes tenencias: 4090\n"
     ]
    }
   ],
   "source": [
    "frecuencia_columna2a = data_review['KEY_CLIENT'].value_counts()\n",
    "frecuencia_columna2 = data_contactos_new['KEY_CLIENT'].value_counts()\n",
    "frecuencia_columna1a = data_siniestros_new['KEY_CLIENT'].value_counts()\n",
    "frecuencia_columna1b = data_cobertura_2022_new['KEY_CLIENT'].value_counts()\n",
    "frecuencia_columna1e = data_certificados_new['KEY_CLIENT'].value_counts()\n",
    "frecuencia_columna1f = data_y['KEY_CLIENT'].value_counts()\n",
    "\n",
    "valores_coincidentes = frecuencia_columna2a.index.intersection(frecuencia_columna2.index)\n",
    "valores_coincidentes1 = frecuencia_columna2a.index.intersection(frecuencia_columna1a.index)\n",
    "valores_coincidentes2 = frecuencia_columna2a.index.intersection(frecuencia_columna1b.index)\n",
    "valores_coincidentes3 = frecuencia_columna2a.index.intersection(frecuencia_columna1e.index)\n",
    "valores_coincidentes4 = frecuencia_columna1b.index.intersection(frecuencia_columna1f.index)\n",
    "\n",
    "cantidad_coincidentes = len(valores_coincidentes)\n",
    "cantidad_coincidentes1 = len(valores_coincidentes1)\n",
    "cantidad_coincidentes2 = len(valores_coincidentes2)\n",
    "cantidad_coincidentes3 = len(valores_coincidentes3)\n",
    "cantidad_coincidentes4 = len(valores_coincidentes4)\n",
    "\n",
    "print(\"Cantidad de valores coincidentes Contactos:\", cantidad_coincidentes)\n",
    "print(\"Cantidad de valores coincidentes Siniestros:\", cantidad_coincidentes1)\n",
    "print(\"Cantidad de valores coincidentes Coberturas:\", cantidad_coincidentes2)\n",
    "print(\"Cantidad de valores coincidentes certificados:\", cantidad_coincidentes3)\n",
    "print(\"Cantidad de valores coincidentes tenencias:\", cantidad_coincidentes4)\n"
   ]
  },
  {
   "cell_type": "markdown",
   "metadata": {},
   "source": [
    "# Estructura de la Secuencia"
   ]
  },
  {
   "cell_type": "code",
   "execution_count": 17,
   "metadata": {},
   "outputs": [],
   "source": [
    "List = data_cobertura_2022_new.iloc[:,4:].columns\n",
    "List1 = data_y.iloc[:,:42].columns"
   ]
  },
  {
   "cell_type": "code",
   "execution_count": 19,
   "metadata": {},
   "outputs": [],
   "source": [
    "def create_sequences(dataframe, sequence_length):\n",
    "    sequences = []\n",
    "    unique_clients = dataframe['KEY_CLIENT'].unique()\n",
    "    \n",
    "    for client in unique_clients:\n",
    "        client_data = dataframe[dataframe['KEY_CLIENT'] == client]\n",
    "        sorted_data = client_data.sort_values(by='PERIODO')\n",
    "        num_samples = len(sorted_data) - sequence_length + 1\n",
    "        \n",
    "        for i in range(num_samples):\n",
    "            sequence = sorted_data.iloc[i:i+sequence_length]\n",
    "            sequences.append(sequence)\n",
    "    \n",
    "    return sequences"
   ]
  },
  {
   "cell_type": "code",
   "execution_count": 20,
   "metadata": {},
   "outputs": [],
   "source": [
    "sequence_length = 5\n",
    "sequences = create_sequences(data_cobertura_2022_new, sequence_length)"
   ]
  },
  {
   "cell_type": "code",
   "execution_count": 21,
   "metadata": {},
   "outputs": [],
   "source": [
    "X_sequences = []\n",
    "y_labels = []\n",
    "\n",
    "for sequence in sequences:\n",
    "    client_id = sequence['KEY_CLIENT'].values[0]  \n",
    "    \n",
    "    client_behavior = data_y[data_y['KEY_CLIENT'] == client_id]\n",
    "    \n",
    "    if not client_behavior.empty:\n",
    "        behavior = client_behavior[['ACCIDENTES_PERSONALES_CORE_1', 'ACCIDENTES_PERSONALES_CORE_2',\n",
    "       'AERONAVEGACION_CORE_2', 'ART_CORE_2', 'AUI_AUTOS_DE_QBE_CORE_2']].values  \n",
    "        \n",
    "        X_sequence = sequence[List].values  \n",
    "        X_sequences.append(X_sequence)\n",
    "        y_labels.append(behavior)\n",
    "\n",
    "X = np.array(X_sequences)\n",
    "y = np.array(y_labels)\n"
   ]
  },
  {
   "cell_type": "markdown",
   "metadata": {},
   "source": [
    "# Datos de Entrenamiento"
   ]
  },
  {
   "cell_type": "code",
   "execution_count": 22,
   "metadata": {},
   "outputs": [],
   "source": [
    "X_train, X_test, y_train, y_test = train_test_split(X, y, test_size=0.2, random_state=42)"
   ]
  },
  {
   "cell_type": "code",
   "execution_count": 23,
   "metadata": {},
   "outputs": [],
   "source": [
    "X_train, X_val, y_train, y_val = train_test_split(X, y, test_size=0.2, random_state=42)\n",
    "y_train = y_train.reshape(-1, 5)"
   ]
  },
  {
   "cell_type": "markdown",
   "metadata": {},
   "source": [
    "# REDES RECURRENTES LSTM"
   ]
  },
  {
   "cell_type": "code",
   "execution_count": 31,
   "metadata": {},
   "outputs": [],
   "source": [
    "model = Sequential()\n",
    "model.add(LSTM(64, input_shape=(None, 73)))\n",
    "model.add(Dense(5, activation='sigmoid'))  \n",
    "model.compile(loss='binary_crossentropy', optimizer='adam', metrics=['accuracy']) # Configura el optimizador y la función de pérdida según tu problema\n"
   ]
  },
  {
   "cell_type": "code",
   "execution_count": 32,
   "metadata": {},
   "outputs": [
    {
     "name": "stdout",
     "output_type": "stream",
     "text": [
      "Epoch 1/10\n",
      "10069/10069 [==============================] - 44s 4ms/step - loss: 0.0366 - accuracy: 0.0540\n",
      "Epoch 2/10\n",
      "10069/10069 [==============================] - 31s 3ms/step - loss: 0.0343 - accuracy: 0.0741\n",
      "Epoch 3/10\n",
      "10069/10069 [==============================] - 36s 4ms/step - loss: 0.0330 - accuracy: 0.0790\n",
      "Epoch 4/10\n",
      "10069/10069 [==============================] - 34s 3ms/step - loss: 0.0318 - accuracy: 0.1048\n",
      "Epoch 5/10\n",
      "10069/10069 [==============================] - 37s 4ms/step - loss: 0.0307 - accuracy: 0.1178\n",
      "Epoch 6/10\n",
      "10069/10069 [==============================] - 39s 4ms/step - loss: 0.0302 - accuracy: 0.0975\n",
      "Epoch 7/10\n",
      "10069/10069 [==============================] - 37s 4ms/step - loss: 0.0287 - accuracy: 0.1088\n",
      "Epoch 8/10\n",
      "10069/10069 [==============================] - 32s 3ms/step - loss: 0.0278 - accuracy: 0.1034\n",
      "Epoch 9/10\n",
      "10069/10069 [==============================] - 32s 3ms/step - loss: 0.0269 - accuracy: 0.1081\n",
      "Epoch 10/10\n",
      "10069/10069 [==============================] - 31s 3ms/step - loss: 0.0263 - accuracy: 0.1166\n"
     ]
    },
    {
     "data": {
      "text/plain": [
       "<keras.src.callbacks.History at 0x1bab6110c10>"
      ]
     },
     "execution_count": 32,
     "metadata": {},
     "output_type": "execute_result"
    }
   ],
   "source": [
    "model.fit(X_train, y_train, epochs=10, batch_size=2)"
   ]
  },
  {
   "cell_type": "code",
   "execution_count": 36,
   "metadata": {},
   "outputs": [
    {
     "name": "stdout",
     "output_type": "stream",
     "text": [
      "158/158 [==============================] - 1s 3ms/step\n"
     ]
    },
    {
     "data": {
      "text/plain": [
       "array([[5.8594724e-05, 7.8292703e-07, 1.4636646e-15, 9.2552998e-04,\n",
       "        8.5401858e-08],\n",
       "       [1.2408349e-02, 1.8848451e-04, 2.1390948e-13, 3.6658989e-03,\n",
       "        4.0544584e-04],\n",
       "       [1.3056834e-04, 2.6240519e-05, 1.4109048e-14, 1.3375017e-03,\n",
       "        6.1171868e-06],\n",
       "       ...,\n",
       "       [2.3125917e-04, 5.9001759e-06, 8.0510658e-14, 4.3421201e-03,\n",
       "        4.2797939e-07],\n",
       "       [2.2675704e-02, 1.3307073e-04, 1.4795192e-09, 3.9350346e-02,\n",
       "        1.7943703e-02],\n",
       "       [1.7815225e-02, 6.5251239e-05, 3.1003921e-08, 2.0847480e-04,\n",
       "        7.2507246e-05]], dtype=float32)"
      ]
     },
     "execution_count": 36,
     "metadata": {},
     "output_type": "execute_result"
    }
   ],
   "source": [
    "model.predict(X_test)"
   ]
  }
 ],
 "metadata": {
  "kernelspec": {
   "display_name": "base",
   "language": "python",
   "name": "python3"
  },
  "language_info": {
   "codemirror_mode": {
    "name": "ipython",
    "version": 3
   },
   "file_extension": ".py",
   "mimetype": "text/x-python",
   "name": "python",
   "nbconvert_exporter": "python",
   "pygments_lexer": "ipython3",
   "version": "3.9.13"
  },
  "orig_nbformat": 4
 },
 "nbformat": 4,
 "nbformat_minor": 2
}
