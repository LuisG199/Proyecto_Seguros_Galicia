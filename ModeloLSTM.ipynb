{
 "cells": [
  {
   "cell_type": "code",
   "execution_count": null,
   "metadata": {},
   "outputs": [],
   "source": [
    "#pip install tensorflow"
   ]
  },
  {
   "cell_type": "code",
   "execution_count": null,
   "metadata": {},
   "outputs": [],
   "source": [
    "import tensorflow as tf\n",
    "from tensorflow.keras.layers import Input, LSTM, Dense, Concatenate, Embedding\n",
    "from tensorflow.keras.models import Model\n",
    "from tensorflow.keras.models import Sequential"
   ]
  },
  {
   "cell_type": "markdown",
   "metadata": {},
   "source": [
    "# REDES RECURRENTES LSTM"
   ]
  },
  {
   "cell_type": "code",
   "execution_count": null,
   "metadata": {},
   "outputs": [],
   "source": [
    "# Datos de entrada (secuencia de meses)\n",
    "secuencia_cliente_1 = np.array([1, 0, 0, 1, 1, 0, 0, 0, 1, 1, 1, 0])\n",
    "secuencia_cliente_2 = np.array([0, 0, 1, 1, 1, 0, 0, 0, 1, 0, 0, 0])\n",
    "\n",
    "# Datos de salida (representación de seguros actuales)\n",
    "seguros_cliente_1 = np.array([1, 1, 0, 0, 1])  # Ejemplo: El cliente 1 tiene seguros 1, 2, y 5\n",
    "seguros_cliente_2 = np.array([1, 0, 0, 0, 0])  # Ejemplo: El cliente 2 solo tiene seguro 1\n",
    "\n",
    "# Construye el modelo de RNN\n",
    "model = Sequential()\n",
    "model.add(LSTM(32, input_shape=(12, 1)))  # 12 meses como entrada, 1 unidad de tiempo\n",
    "model.add(Dense(5, activation='sigmoid'))  # 5 seguros como salida\n",
    "\n",
    "# Compila el modelo\n",
    "model.compile(loss='binary_crossentropy', optimizer='adam', metrics=['accuracy'])\n",
    "\n",
    "# Entrena el modelo con los datos de ejemplo\n",
    "X_train = np.array([secuencia_cliente_1, secuencia_cliente_2])\n",
    "X_train = np.expand_dims(X_train, axis=-1)  # Agrega una dimensión para la entrada de tiempo\n",
    "y_train = np.array([seguros_cliente_1, seguros_cliente_2])\n",
    "\n",
    "model.fit(X_train, y_train, epochs=100, batch_size=2)\n",
    "\n",
    "# Genera una recomendación para un nuevo cliente (simulado)\n",
    "nuevo_cliente = np.array([0, 1, 0, 0, 1, 1, 0, 0, 1, 1, 0, 0])\n",
    "nuevo_cliente = np.expand_dims(nuevo_cliente, axis=0)\n",
    "\n",
    "prediccion = model.predict(nuevo_cliente)\n",
    "\n",
    "num_recomendaciones = 3  # Puedes ajustar este número según tus preferencias\n",
    "recomendaciones = np.argsort(prediccion[0])[::-1][:num_recomendaciones]\n",
    "\n",
    "print(\"Recomendación de seguros para el nuevo cliente:\", recomendaciones)"
   ]
  },
  {
   "cell_type": "code",
   "execution_count": null,
   "metadata": {},
   "outputs": [],
   "source": [
    "# Generar datos de ejemplo (simulados)\n",
    "np.random.seed(0)\n",
    "n_samples = 1000\n",
    "n_timesteps = 12  # 12 meses de datos\n",
    "\n",
    "# Características del cliente: Edad, Ingresos, Localidad (1-5), Tipo de Industria (1-3)\n",
    "X_client = np.random.uniform(18, 65, size=(n_samples, 4))\n",
    "X_income = np.random.uniform(20000, 100000, size=(n_samples, 1))\n",
    "X_location = np.random.randint(1, 6, size=(n_samples, 1))\n",
    "X_industry = np.random.randint(1, 4, size=(n_samples, 1))\n",
    "\n",
    "# ID del cliente (identificador único)\n",
    "client_ids = np.arange(1, n_samples + 1).reshape(-1, 1)\n",
    "\n",
    "# Series temporales de coberturas adquiridas (simuladas como valores binarios)\n",
    "X_coverages = np.random.randint(2, size=(n_samples, n_timesteps, 3))\n",
    "\n",
    "# Series temporales de contactos del cliente (simuladas como valores binarios)\n",
    "X_contacts = np.random.randint(2, size=(n_samples, n_timesteps, 1))\n",
    "\n",
    "# Características de riesgo por desastres naturales y seguridad por robo por provincia (simuladas)\n",
    "X_risk_features = np.random.rand(n_samples, n_timesteps, 2)\n",
    "X_security_features = np.random.rand(n_samples, n_timesteps, 2)\n",
    "\n",
    "# Objetivo: Recomendación de seguros (etiquetas codificadas en one-hot)\n",
    "y = np.random.randint(2, size=(n_samples, n_timesteps, 3))\n",
    "\n",
    "# Dividir el conjunto de datos en entrenamiento y prueba\n",
    "split_ratio = 0.8\n",
    "split_index = int(n_samples * split_ratio)\n",
    "\n",
    "X_client_train = X_client[:split_index]\n",
    "X_client_test = X_client[split_index:]\n",
    "client_ids_train = client_ids[:split_index]\n",
    "client_ids_test = client_ids[split_index:]\n",
    "X_coverages_train = X_coverages[:split_index]\n",
    "X_coverages_test = X_coverages[split_index:]\n",
    "X_contacts_train = X_contacts[:split_index]\n",
    "X_contacts_test = X_contacts[split_index:]\n",
    "X_risk_train = X_risk_features[:split_index]\n",
    "X_risk_test = X_risk_features[split_index:]\n",
    "X_security_train = X_security_features[:split_index]\n",
    "X_security_test = X_security_features[split_index:]\n",
    "y_train = y[:split_index]\n",
    "y_test = y[split_index:]\n",
    "\n",
    "# Definir la arquitectura del modelo\n",
    "input_client = Input(shape=(4,))\n",
    "input_coverages = Input(shape=(n_timesteps, 3))\n",
    "input_contacts = Input(shape=(n_timesteps, 1))\n",
    "input_risk = Input(shape=(n_timesteps, 2))\n",
    "input_security = Input(shape=(n_timesteps, 2))\n",
    "input_id = Input(shape=(1,))"
   ]
  },
  {
   "cell_type": "code",
   "execution_count": null,
   "metadata": {},
   "outputs": [],
   "source": [
    "# Capa de embeddings para el ID del cliente\n",
    "embedding_id = Embedding(input_dim=n_samples + 1, output_dim=32)(input_id)\n",
    "embedding_id = tf.reduce_mean(embedding_id, axis=1)\n",
    "\n",
    "# Capa de embeddings para características del cliente\n",
    "embedding_client = Dense(32, activation='relu')(input_client)\n",
    "\n",
    "# Capa LSTM para series temporales de coberturas adquiridas y contactos del cliente\n",
    "lstm_output = LSTM(64, return_sequences=True)(input_coverages)\n",
    "lstm_output = Concatenate(axis=-1)([lstm_output, input_contacts])\n",
    "\n",
    "# Capa densa para características de riesgo y seguridad\n",
    "dense_risk = Dense(16, activation='relu')(input_risk)\n",
    "dense_security = Dense(16, activation='relu')(input_security)\n"
   ]
  },
  {
   "cell_type": "code",
   "execution_count": null,
   "metadata": {},
   "outputs": [],
   "source": [
    "# # Combinar todas las características\n",
    "# combined_features = Concatenate()([embedding_id, embedding_client, lstm_output, dense_risk, dense_security])"
   ]
  },
  {
   "cell_type": "code",
   "execution_count": null,
   "metadata": {},
   "outputs": [],
   "source": [
    "# # Capa de salida para clasificación de seguros\n",
    "# output = Dense(3, activation='softmax')(combined_features)\n",
    "\n",
    "# # Construir el modelo\n",
    "# model = Model(inputs=[input_client, input_coverages, input_contacts, input_risk, input_security, input_id], outputs=output)\n",
    "\n",
    "# # Compilar el modelo\n",
    "# model.compile(optimizer='adam', loss='categorical_crossentropy', metrics=['accuracy'])\n",
    "\n",
    "# # Entrenar el modelo\n",
    "# model.fit([X_client_train, X_coverages_train, X_contacts_train, X_risk_train, X_security_train, client_ids_train],\n",
    "#           y_train,\n",
    "#           epochs=10,\n",
    "#           batch_size=32,\n",
    "#           validation_data=([X_client_test, X_coverages_test, X_contacts_test, X_risk_test, X_security_test, client_ids_test], y_test))\n",
    "\n",
    "# # Hacer predicciones (por ejemplo, para un nuevo cliente y mes)\n",
    "# new_client_id = np.array([[n_samples + 1]])  # ID de cliente nuevo\n",
    "# new_client_features = np.array([[35, 60000, 3, 2]])  # Ejemplo de características de cliente nuevo\n",
    "# new_coverages = np.random.randint(2, size=(1, n_timesteps, 3))  # Ejemplo de series temporales de coberturas\n",
    "# new_contacts = np.random.randint(2, size=(1, n_timesteps, 1))  # Ejemplo de series temporales de contactos\n",
    "# new_risk = np.random.rand(1, n_timesteps, 2)  # Ejemplo de características de riesgo\n",
    "# new_security = np.random.rand\n"
   ]
  }
 ],
 "metadata": {
  "language_info": {
   "name": "python"
  },
  "orig_nbformat": 4
 },
 "nbformat": 4,
 "nbformat_minor": 2
}
